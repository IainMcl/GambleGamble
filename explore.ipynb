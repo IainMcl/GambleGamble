{
 "cells": [
  {
   "cell_type": "markdown",
   "metadata": {},
   "source": [
    "# BlackJack Solver\n",
    "\n",
    "Use data from `results.pkl` to evaluate many blackjack games to find an optimal\n",
    "strategy."
   ]
  },
  {
   "cell_type": "code",
   "execution_count": 2,
   "metadata": {},
   "outputs": [],
   "source": [
    "# Import libraries\n",
    "import pickle as pkl\n",
    "import pandas as pd\n",
    "import numpy as np\n",
    "import seaborn as sns"
   ]
  },
  {
   "cell_type": "markdown",
   "metadata": {},
   "source": [
    "Read in the data"
   ]
  },
  {
   "cell_type": "code",
   "execution_count": 3,
   "metadata": {},
   "outputs": [
    {
     "data": {
      "text/html": [
       "<div>\n",
       "<style scoped>\n",
       "    .dataframe tbody tr th:only-of-type {\n",
       "        vertical-align: middle;\n",
       "    }\n",
       "\n",
       "    .dataframe tbody tr th {\n",
       "        vertical-align: top;\n",
       "    }\n",
       "\n",
       "    .dataframe thead th {\n",
       "        text-align: right;\n",
       "    }\n",
       "</style>\n",
       "<table border=\"1\" class=\"dataframe\">\n",
       "  <thead>\n",
       "    <tr style=\"text-align: right;\">\n",
       "      <th></th>\n",
       "      <th>player_id</th>\n",
       "      <th>dealer_up_card</th>\n",
       "      <th>dealer_up_card_value</th>\n",
       "      <th>dealer_final_hand_value</th>\n",
       "      <th>dealer_busted</th>\n",
       "      <th>dealer_blackjack</th>\n",
       "      <th>dealer_final_hand</th>\n",
       "      <th>player_bet</th>\n",
       "      <th>player_hand</th>\n",
       "      <th>player_hand_value</th>\n",
       "      <th>player_busted</th>\n",
       "      <th>player_blackjack</th>\n",
       "      <th>player_won</th>\n",
       "      <th>player_winnings</th>\n",
       "      <th>player_stack</th>\n",
       "      <th>player_strategy</th>\n",
       "    </tr>\n",
       "  </thead>\n",
       "  <tbody>\n",
       "    <tr>\n",
       "      <th>0</th>\n",
       "      <td>1</td>\n",
       "      <td>6H</td>\n",
       "      <td>6</td>\n",
       "      <td>26</td>\n",
       "      <td>True</td>\n",
       "      <td>False</td>\n",
       "      <td>[6H, KC, TC]</td>\n",
       "      <td>10</td>\n",
       "      <td>[2S, 7S, 5H, 3H]</td>\n",
       "      <td>17</td>\n",
       "      <td>False</td>\n",
       "      <td>False</td>\n",
       "      <td>1</td>\n",
       "      <td>20</td>\n",
       "      <td>1010</td>\n",
       "      <td>h16</td>\n",
       "    </tr>\n",
       "    <tr>\n",
       "      <th>1</th>\n",
       "      <td>1</td>\n",
       "      <td>JC</td>\n",
       "      <td>10</td>\n",
       "      <td>20</td>\n",
       "      <td>False</td>\n",
       "      <td>False</td>\n",
       "      <td>[JC, JC]</td>\n",
       "      <td>10</td>\n",
       "      <td>[KC, 3S, 5H]</td>\n",
       "      <td>18</td>\n",
       "      <td>False</td>\n",
       "      <td>False</td>\n",
       "      <td>0</td>\n",
       "      <td>0</td>\n",
       "      <td>1000</td>\n",
       "      <td>h16</td>\n",
       "    </tr>\n",
       "    <tr>\n",
       "      <th>2</th>\n",
       "      <td>1</td>\n",
       "      <td>3C</td>\n",
       "      <td>3</td>\n",
       "      <td>19</td>\n",
       "      <td>False</td>\n",
       "      <td>False</td>\n",
       "      <td>[3C, 6S, 2H, 4D, 4H]</td>\n",
       "      <td>10</td>\n",
       "      <td>[2H, QD, AH, 6S]</td>\n",
       "      <td>19</td>\n",
       "      <td>False</td>\n",
       "      <td>False</td>\n",
       "      <td>0</td>\n",
       "      <td>0</td>\n",
       "      <td>990</td>\n",
       "      <td>h16</td>\n",
       "    </tr>\n",
       "    <tr>\n",
       "      <th>3</th>\n",
       "      <td>1</td>\n",
       "      <td>7C</td>\n",
       "      <td>7</td>\n",
       "      <td>21</td>\n",
       "      <td>False</td>\n",
       "      <td>False</td>\n",
       "      <td>[7C, 5S, 9H]</td>\n",
       "      <td>10</td>\n",
       "      <td>[KS, QC]</td>\n",
       "      <td>20</td>\n",
       "      <td>False</td>\n",
       "      <td>False</td>\n",
       "      <td>0</td>\n",
       "      <td>0</td>\n",
       "      <td>980</td>\n",
       "      <td>h16</td>\n",
       "    </tr>\n",
       "    <tr>\n",
       "      <th>4</th>\n",
       "      <td>1</td>\n",
       "      <td>3C</td>\n",
       "      <td>3</td>\n",
       "      <td>20</td>\n",
       "      <td>False</td>\n",
       "      <td>False</td>\n",
       "      <td>[3C, 9D, 8D]</td>\n",
       "      <td>10</td>\n",
       "      <td>[2D, 4S, 9S, 2S]</td>\n",
       "      <td>17</td>\n",
       "      <td>False</td>\n",
       "      <td>False</td>\n",
       "      <td>0</td>\n",
       "      <td>0</td>\n",
       "      <td>970</td>\n",
       "      <td>h16</td>\n",
       "    </tr>\n",
       "    <tr>\n",
       "      <th>...</th>\n",
       "      <td>...</td>\n",
       "      <td>...</td>\n",
       "      <td>...</td>\n",
       "      <td>...</td>\n",
       "      <td>...</td>\n",
       "      <td>...</td>\n",
       "      <td>...</td>\n",
       "      <td>...</td>\n",
       "      <td>...</td>\n",
       "      <td>...</td>\n",
       "      <td>...</td>\n",
       "      <td>...</td>\n",
       "      <td>...</td>\n",
       "      <td>...</td>\n",
       "      <td>...</td>\n",
       "      <td>...</td>\n",
       "    </tr>\n",
       "    <tr>\n",
       "      <th>423</th>\n",
       "      <td>1</td>\n",
       "      <td>JD</td>\n",
       "      <td>10</td>\n",
       "      <td>19</td>\n",
       "      <td>False</td>\n",
       "      <td>False</td>\n",
       "      <td>[JD, 9C]</td>\n",
       "      <td>10</td>\n",
       "      <td>[6D, 3H, KD]</td>\n",
       "      <td>19</td>\n",
       "      <td>False</td>\n",
       "      <td>False</td>\n",
       "      <td>0</td>\n",
       "      <td>0</td>\n",
       "      <td>20</td>\n",
       "      <td>h16</td>\n",
       "    </tr>\n",
       "    <tr>\n",
       "      <th>424</th>\n",
       "      <td>1</td>\n",
       "      <td>4S</td>\n",
       "      <td>4</td>\n",
       "      <td>22</td>\n",
       "      <td>True</td>\n",
       "      <td>False</td>\n",
       "      <td>[4S, TC, 8H]</td>\n",
       "      <td>10</td>\n",
       "      <td>[QS, 8D]</td>\n",
       "      <td>18</td>\n",
       "      <td>False</td>\n",
       "      <td>False</td>\n",
       "      <td>1</td>\n",
       "      <td>20</td>\n",
       "      <td>30</td>\n",
       "      <td>h16</td>\n",
       "    </tr>\n",
       "    <tr>\n",
       "      <th>425</th>\n",
       "      <td>1</td>\n",
       "      <td>2H</td>\n",
       "      <td>2</td>\n",
       "      <td>17</td>\n",
       "      <td>False</td>\n",
       "      <td>False</td>\n",
       "      <td>[2H, KS, 5H]</td>\n",
       "      <td>10</td>\n",
       "      <td>[3S, JH, KH]</td>\n",
       "      <td>23</td>\n",
       "      <td>True</td>\n",
       "      <td>False</td>\n",
       "      <td>0</td>\n",
       "      <td>0</td>\n",
       "      <td>20</td>\n",
       "      <td>h16</td>\n",
       "    </tr>\n",
       "    <tr>\n",
       "      <th>426</th>\n",
       "      <td>1</td>\n",
       "      <td>4D</td>\n",
       "      <td>4</td>\n",
       "      <td>17</td>\n",
       "      <td>False</td>\n",
       "      <td>False</td>\n",
       "      <td>[4D, QC, 3C]</td>\n",
       "      <td>10</td>\n",
       "      <td>[TD, 2C, QH]</td>\n",
       "      <td>22</td>\n",
       "      <td>True</td>\n",
       "      <td>False</td>\n",
       "      <td>0</td>\n",
       "      <td>0</td>\n",
       "      <td>10</td>\n",
       "      <td>h16</td>\n",
       "    </tr>\n",
       "    <tr>\n",
       "      <th>427</th>\n",
       "      <td>1</td>\n",
       "      <td>QC</td>\n",
       "      <td>10</td>\n",
       "      <td>21</td>\n",
       "      <td>False</td>\n",
       "      <td>False</td>\n",
       "      <td>[QC, 4D, 2H, 5C]</td>\n",
       "      <td>10</td>\n",
       "      <td>[QC, QD]</td>\n",
       "      <td>20</td>\n",
       "      <td>False</td>\n",
       "      <td>False</td>\n",
       "      <td>0</td>\n",
       "      <td>0</td>\n",
       "      <td>0</td>\n",
       "      <td>h16</td>\n",
       "    </tr>\n",
       "  </tbody>\n",
       "</table>\n",
       "<p>2662 rows × 16 columns</p>\n",
       "</div>"
      ],
      "text/plain": [
       "    player_id dealer_up_card dealer_up_card_value dealer_final_hand_value  \\\n",
       "0           1             6H                    6                      26   \n",
       "1           1             JC                   10                      20   \n",
       "2           1             3C                    3                      19   \n",
       "3           1             7C                    7                      21   \n",
       "4           1             3C                    3                      20   \n",
       "..        ...            ...                  ...                     ...   \n",
       "423         1             JD                   10                      19   \n",
       "424         1             4S                    4                      22   \n",
       "425         1             2H                    2                      17   \n",
       "426         1             4D                    4                      17   \n",
       "427         1             QC                   10                      21   \n",
       "\n",
       "    dealer_busted dealer_blackjack     dealer_final_hand player_bet  \\\n",
       "0            True            False          [6H, KC, TC]         10   \n",
       "1           False            False              [JC, JC]         10   \n",
       "2           False            False  [3C, 6S, 2H, 4D, 4H]         10   \n",
       "3           False            False          [7C, 5S, 9H]         10   \n",
       "4           False            False          [3C, 9D, 8D]         10   \n",
       "..            ...              ...                   ...        ...   \n",
       "423         False            False              [JD, 9C]         10   \n",
       "424          True            False          [4S, TC, 8H]         10   \n",
       "425         False            False          [2H, KS, 5H]         10   \n",
       "426         False            False          [4D, QC, 3C]         10   \n",
       "427         False            False      [QC, 4D, 2H, 5C]         10   \n",
       "\n",
       "          player_hand player_hand_value player_busted player_blackjack  \\\n",
       "0    [2S, 7S, 5H, 3H]                17         False            False   \n",
       "1        [KC, 3S, 5H]                18         False            False   \n",
       "2    [2H, QD, AH, 6S]                19         False            False   \n",
       "3            [KS, QC]                20         False            False   \n",
       "4    [2D, 4S, 9S, 2S]                17         False            False   \n",
       "..                ...               ...           ...              ...   \n",
       "423      [6D, 3H, KD]                19         False            False   \n",
       "424          [QS, 8D]                18         False            False   \n",
       "425      [3S, JH, KH]                23          True            False   \n",
       "426      [TD, 2C, QH]                22          True            False   \n",
       "427          [QC, QD]                20         False            False   \n",
       "\n",
       "    player_won player_winnings player_stack player_strategy  \n",
       "0            1              20         1010             h16  \n",
       "1            0               0         1000             h16  \n",
       "2            0               0          990             h16  \n",
       "3            0               0          980             h16  \n",
       "4            0               0          970             h16  \n",
       "..         ...             ...          ...             ...  \n",
       "423          0               0           20             h16  \n",
       "424          1              20           30             h16  \n",
       "425          0               0           20             h16  \n",
       "426          0               0           10             h16  \n",
       "427          0               0            0             h16  \n",
       "\n",
       "[2662 rows x 16 columns]"
      ]
     },
     "execution_count": 3,
     "metadata": {},
     "output_type": "execute_result"
    }
   ],
   "source": [
    "df = pd.read_pickle(\"results_1000.pkl\")\n",
    "# Sample data\n",
    "df"
   ]
  },
  {
   "cell_type": "code",
   "execution_count": 9,
   "metadata": {},
   "outputs": [
    {
     "data": {
      "text/plain": [
       "1    2662\n",
       "Name: player_id, dtype: int64"
      ]
     },
     "execution_count": 9,
     "metadata": {},
     "output_type": "execute_result"
    }
   ],
   "source": [
    "df[\"player_id\"].value_counts()"
   ]
  },
  {
   "cell_type": "markdown",
   "metadata": {},
   "source": [
    "## Wins by dealer up card\n",
    "\n",
    "Look at win rates with a given strategy based on the dealer up card."
   ]
  },
  {
   "cell_type": "code",
   "execution_count": null,
   "metadata": {},
   "outputs": [],
   "source": [
    "wins_by_up_card = df[[\"dealer_up_card_value\", \"player_hand_value\", \"player_won\", \"player_busted\"]]\n",
    "wins_by_up_card = wins_by_up_card[wins_by_up_card[\"player_busted\"] == False]\n",
    "wins_by_up_card[\"player_won\"] = wins_by_up_card[\"player_won\"].astype(float)\n",
    "pivoted = wins_by_up_card.pivot_table(index=\"player_hand_value\", columns=\"dealer_up_card_value\").player_won\n",
    "# Reorder so 'A' is first\n",
    "c = pivoted.columns.to_list()\n",
    "new = c[1:] + c[:1]\n",
    "pivoted = pivoted[new]\n"
   ]
  },
  {
   "cell_type": "markdown",
   "metadata": {},
   "source": [
    "Pivot data to get average win per dealer up card for each player hand value.\n",
    "\n",
    "Player wins: 1\n",
    "\n",
    "Player looses: 0\n",
    "\n",
    "Player draws: 0.5"
   ]
  },
  {
   "cell_type": "code",
   "execution_count": null,
   "metadata": {},
   "outputs": [
    {
     "data": {
      "text/html": [
       "<div>\n",
       "<style scoped>\n",
       "    .dataframe tbody tr th:only-of-type {\n",
       "        vertical-align: middle;\n",
       "    }\n",
       "\n",
       "    .dataframe tbody tr th {\n",
       "        vertical-align: top;\n",
       "    }\n",
       "\n",
       "    .dataframe thead th {\n",
       "        text-align: right;\n",
       "    }\n",
       "</style>\n",
       "<table border=\"1\" class=\"dataframe\">\n",
       "  <thead>\n",
       "    <tr style=\"text-align: right;\">\n",
       "      <th>dealer_up_card_value</th>\n",
       "      <th>2</th>\n",
       "      <th>3</th>\n",
       "      <th>4</th>\n",
       "      <th>5</th>\n",
       "      <th>6</th>\n",
       "      <th>7</th>\n",
       "      <th>8</th>\n",
       "      <th>9</th>\n",
       "      <th>10</th>\n",
       "      <th>1</th>\n",
       "    </tr>\n",
       "    <tr>\n",
       "      <th>player_hand_value</th>\n",
       "      <th></th>\n",
       "      <th></th>\n",
       "      <th></th>\n",
       "      <th></th>\n",
       "      <th></th>\n",
       "      <th></th>\n",
       "      <th></th>\n",
       "      <th></th>\n",
       "      <th></th>\n",
       "      <th></th>\n",
       "    </tr>\n",
       "  </thead>\n",
       "  <tbody>\n",
       "    <tr>\n",
       "      <th>17</th>\n",
       "      <td>30.769231</td>\n",
       "      <td>31.428571</td>\n",
       "      <td>33.333333</td>\n",
       "      <td>30.769231</td>\n",
       "      <td>33.333333</td>\n",
       "      <td>30.303030</td>\n",
       "      <td>33.333333</td>\n",
       "      <td>16.666667</td>\n",
       "      <td>21.311475</td>\n",
       "      <td>11.764706</td>\n",
       "    </tr>\n",
       "    <tr>\n",
       "      <th>18</th>\n",
       "      <td>50.000000</td>\n",
       "      <td>55.555556</td>\n",
       "      <td>55.882353</td>\n",
       "      <td>37.037037</td>\n",
       "      <td>63.333333</td>\n",
       "      <td>61.538462</td>\n",
       "      <td>56.521739</td>\n",
       "      <td>38.709677</td>\n",
       "      <td>35.772358</td>\n",
       "      <td>11.111111</td>\n",
       "    </tr>\n",
       "    <tr>\n",
       "      <th>19</th>\n",
       "      <td>72.413793</td>\n",
       "      <td>41.176471</td>\n",
       "      <td>68.965517</td>\n",
       "      <td>74.193548</td>\n",
       "      <td>73.333333</td>\n",
       "      <td>72.000000</td>\n",
       "      <td>84.210526</td>\n",
       "      <td>44.736842</td>\n",
       "      <td>48.648649</td>\n",
       "      <td>27.027027</td>\n",
       "    </tr>\n",
       "    <tr>\n",
       "      <th>20</th>\n",
       "      <td>74.418605</td>\n",
       "      <td>64.705882</td>\n",
       "      <td>72.413793</td>\n",
       "      <td>90.625000</td>\n",
       "      <td>85.000000</td>\n",
       "      <td>66.666667</td>\n",
       "      <td>88.235294</td>\n",
       "      <td>94.117647</td>\n",
       "      <td>53.237410</td>\n",
       "      <td>58.974359</td>\n",
       "    </tr>\n",
       "    <tr>\n",
       "      <th>21</th>\n",
       "      <td>87.500000</td>\n",
       "      <td>95.652174</td>\n",
       "      <td>93.103448</td>\n",
       "      <td>100.000000</td>\n",
       "      <td>94.117647</td>\n",
       "      <td>100.000000</td>\n",
       "      <td>86.363636</td>\n",
       "      <td>100.000000</td>\n",
       "      <td>91.000000</td>\n",
       "      <td>70.000000</td>\n",
       "    </tr>\n",
       "  </tbody>\n",
       "</table>\n",
       "</div>"
      ],
      "text/plain": [
       "dealer_up_card_value         2          3          4           5          6   \\\n",
       "player_hand_value                                                              \n",
       "17                    30.769231  31.428571  33.333333   30.769231  33.333333   \n",
       "18                    50.000000  55.555556  55.882353   37.037037  63.333333   \n",
       "19                    72.413793  41.176471  68.965517   74.193548  73.333333   \n",
       "20                    74.418605  64.705882  72.413793   90.625000  85.000000   \n",
       "21                    87.500000  95.652174  93.103448  100.000000  94.117647   \n",
       "\n",
       "dealer_up_card_value          7          8           9          10         1   \n",
       "player_hand_value                                                              \n",
       "17                     30.303030  33.333333   16.666667  21.311475  11.764706  \n",
       "18                     61.538462  56.521739   38.709677  35.772358  11.111111  \n",
       "19                     72.000000  84.210526   44.736842  48.648649  27.027027  \n",
       "20                     66.666667  88.235294   94.117647  53.237410  58.974359  \n",
       "21                    100.000000  86.363636  100.000000  91.000000  70.000000  "
      ]
     },
     "execution_count": 506,
     "metadata": {},
     "output_type": "execute_result"
    }
   ],
   "source": [
    "pivoted*100"
   ]
  },
  {
   "cell_type": "markdown",
   "metadata": {},
   "source": [
    "### Results heatmap\n",
    "\n",
    "Visualise mean results as a heatmap."
   ]
  },
  {
   "cell_type": "code",
   "execution_count": null,
   "metadata": {},
   "outputs": [
    {
     "data": {
      "text/plain": [
       "<matplotlib.axes._subplots.AxesSubplot at 0x1c8629435b0>"
      ]
     },
     "execution_count": 507,
     "metadata": {},
     "output_type": "execute_result"
    },
    {
     "data": {
      "image/png": "[encoded data removed]",
      "text/plain": [
       "<Figure size 432x288 with 2 Axes>"
      ]
     },
     "metadata": {
      "needs_background": "light"
     },
     "output_type": "display_data"
    }
   ],
   "source": [
    "sns.heatmap(pivoted, cmap='Blues')"
   ]
  },
  {
   "cell_type": "markdown",
   "metadata": {},
   "source": [
    "Percentage player win"
   ]
  },
  {
   "cell_type": "code",
   "execution_count": null,
   "metadata": {},
   "outputs": [
    {
     "data": {
      "text/plain": [
       "40.60856498873028"
      ]
     },
     "execution_count": 508,
     "metadata": {},
     "output_type": "execute_result"
    }
   ],
   "source": [
    "perc_player_wins = df[\"player_won\"].sum() * 100 / df[\"player_won\"].count()\n",
    "perc_player_wins"
   ]
  },
  {
   "cell_type": "markdown",
   "metadata": {},
   "source": [
    "Player bust percentage"
   ]
  },
  {
   "cell_type": "code",
   "execution_count": null,
   "metadata": {},
   "outputs": [
    {
     "data": {
      "text/plain": [
       "29.03831705484598"
      ]
     },
     "execution_count": 509,
     "metadata": {},
     "output_type": "execute_result"
    }
   ],
   "source": [
    "perc_bust = df[\"player_busted\"].sum() * 100 / df[\"player_busted\"].count()\n",
    "perc_bust"
   ]
  },
  {
   "cell_type": "markdown",
   "metadata": {},
   "source": [
    "Player blackjack percentage"
   ]
  },
  {
   "cell_type": "code",
   "execution_count": null,
   "metadata": {},
   "outputs": [
    {
     "data": {
      "text/plain": [
       "4.921111945905334"
      ]
     },
     "execution_count": 510,
     "metadata": {},
     "output_type": "execute_result"
    }
   ],
   "source": [
    "perc_player_bj = df[\"player_blackjack\"].sum() * 100 / df[\"player_blackjack\"].count()\n",
    "perc_player_bj"
   ]
  },
  {
   "cell_type": "markdown",
   "metadata": {},
   "source": [
    "Number of games"
   ]
  },
  {
   "cell_type": "code",
   "execution_count": null,
   "metadata": {},
   "outputs": [
    {
     "data": {
      "text/plain": [
       "2662"
      ]
     },
     "execution_count": 511,
     "metadata": {},
     "output_type": "execute_result"
    }
   ],
   "source": [
    "n_events = df[\"player_won\"].count()\n",
    "n_events"
   ]
  },
  {
   "cell_type": "markdown",
   "metadata": {},
   "source": [
    "## Player bust cards\n",
    "\n",
    "For a given strategy what values were players busting on?"
   ]
  },
  {
   "cell_type": "code",
   "execution_count": null,
   "metadata": {},
   "outputs": [
    {
     "name": "stderr",
     "output_type": "stream",
     "text": [
      "<ipython-input-512-1d82fa8d4033>:3: SettingWithCopyWarning: \n",
      "A value is trying to be set on a copy of a slice from a DataFrame.\n",
      "Try using .loc[row_indexer,col_indexer] = value instead\n",
      "\n",
      "See the caveats in the documentation: http://pandas.pydata.org/pandas-docs/stable/user_guide/indexing.html#returning-a-view-versus-a-copy\n",
      "  player[\"player_start_hand_value\"] = player[\"player_hand\"].apply(lambda x: x[0].value + x[1].value if not any(card.value == 1 for card in x[:2]) else x[0].value + 11)\n"
     ]
    },
    {
     "data": {
      "text/html": [
       "<div>\n",
       "<style scoped>\n",
       "    .dataframe tbody tr th:only-of-type {\n",
       "        vertical-align: middle;\n",
       "    }\n",
       "\n",
       "    .dataframe tbody tr th {\n",
       "        vertical-align: top;\n",
       "    }\n",
       "\n",
       "    .dataframe thead th {\n",
       "        text-align: right;\n",
       "    }\n",
       "</style>\n",
       "<table border=\"1\" class=\"dataframe\">\n",
       "  <thead>\n",
       "    <tr style=\"text-align: right;\">\n",
       "      <th></th>\n",
       "      <th>player_hand</th>\n",
       "      <th>player_hand_value</th>\n",
       "      <th>player_won</th>\n",
       "      <th>player_busted</th>\n",
       "      <th>player_blackjack</th>\n",
       "      <th>player_start_hand_value</th>\n",
       "    </tr>\n",
       "  </thead>\n",
       "  <tbody>\n",
       "    <tr>\n",
       "      <th>0</th>\n",
       "      <td>[2S, 7S, 5H, 3H]</td>\n",
       "      <td>17</td>\n",
       "      <td>1</td>\n",
       "      <td>False</td>\n",
       "      <td>False</td>\n",
       "      <td>9</td>\n",
       "    </tr>\n",
       "    <tr>\n",
       "      <th>1</th>\n",
       "      <td>[KC, 3S, 5H]</td>\n",
       "      <td>18</td>\n",
       "      <td>0</td>\n",
       "      <td>False</td>\n",
       "      <td>False</td>\n",
       "      <td>13</td>\n",
       "    </tr>\n",
       "    <tr>\n",
       "      <th>2</th>\n",
       "      <td>[2H, QD, AH, 6S]</td>\n",
       "      <td>19</td>\n",
       "      <td>0</td>\n",
       "      <td>False</td>\n",
       "      <td>False</td>\n",
       "      <td>12</td>\n",
       "    </tr>\n",
       "    <tr>\n",
       "      <th>3</th>\n",
       "      <td>[KS, QC]</td>\n",
       "      <td>20</td>\n",
       "      <td>0</td>\n",
       "      <td>False</td>\n",
       "      <td>False</td>\n",
       "      <td>20</td>\n",
       "    </tr>\n",
       "    <tr>\n",
       "      <th>4</th>\n",
       "      <td>[2D, 4S, 9S, 2S]</td>\n",
       "      <td>17</td>\n",
       "      <td>0</td>\n",
       "      <td>False</td>\n",
       "      <td>False</td>\n",
       "      <td>6</td>\n",
       "    </tr>\n",
       "    <tr>\n",
       "      <th>...</th>\n",
       "      <td>...</td>\n",
       "      <td>...</td>\n",
       "      <td>...</td>\n",
       "      <td>...</td>\n",
       "      <td>...</td>\n",
       "      <td>...</td>\n",
       "    </tr>\n",
       "    <tr>\n",
       "      <th>423</th>\n",
       "      <td>[6D, 3H, KD]</td>\n",
       "      <td>19</td>\n",
       "      <td>0</td>\n",
       "      <td>False</td>\n",
       "      <td>False</td>\n",
       "      <td>9</td>\n",
       "    </tr>\n",
       "    <tr>\n",
       "      <th>424</th>\n",
       "      <td>[QS, 8D]</td>\n",
       "      <td>18</td>\n",
       "      <td>1</td>\n",
       "      <td>False</td>\n",
       "      <td>False</td>\n",
       "      <td>18</td>\n",
       "    </tr>\n",
       "    <tr>\n",
       "      <th>425</th>\n",
       "      <td>[3S, JH, KH]</td>\n",
       "      <td>23</td>\n",
       "      <td>0</td>\n",
       "      <td>True</td>\n",
       "      <td>False</td>\n",
       "      <td>13</td>\n",
       "    </tr>\n",
       "    <tr>\n",
       "      <th>426</th>\n",
       "      <td>[TD, 2C, QH]</td>\n",
       "      <td>22</td>\n",
       "      <td>0</td>\n",
       "      <td>True</td>\n",
       "      <td>False</td>\n",
       "      <td>12</td>\n",
       "    </tr>\n",
       "    <tr>\n",
       "      <th>427</th>\n",
       "      <td>[QC, QD]</td>\n",
       "      <td>20</td>\n",
       "      <td>0</td>\n",
       "      <td>False</td>\n",
       "      <td>False</td>\n",
       "      <td>20</td>\n",
       "    </tr>\n",
       "  </tbody>\n",
       "</table>\n",
       "<p>2662 rows × 6 columns</p>\n",
       "</div>"
      ],
      "text/plain": [
       "          player_hand player_hand_value player_won player_busted  \\\n",
       "0    [2S, 7S, 5H, 3H]                17          1         False   \n",
       "1        [KC, 3S, 5H]                18          0         False   \n",
       "2    [2H, QD, AH, 6S]                19          0         False   \n",
       "3            [KS, QC]                20          0         False   \n",
       "4    [2D, 4S, 9S, 2S]                17          0         False   \n",
       "..                ...               ...        ...           ...   \n",
       "423      [6D, 3H, KD]                19          0         False   \n",
       "424          [QS, 8D]                18          1         False   \n",
       "425      [3S, JH, KH]                23          0          True   \n",
       "426      [TD, 2C, QH]                22          0          True   \n",
       "427          [QC, QD]                20          0         False   \n",
       "\n",
       "    player_blackjack  player_start_hand_value  \n",
       "0              False                        9  \n",
       "1              False                       13  \n",
       "2              False                       12  \n",
       "3              False                       20  \n",
       "4              False                        6  \n",
       "..               ...                      ...  \n",
       "423            False                        9  \n",
       "424            False                       18  \n",
       "425            False                       13  \n",
       "426            False                       12  \n",
       "427            False                       20  \n",
       "\n",
       "[2662 rows x 6 columns]"
      ]
     },
     "execution_count": 512,
     "metadata": {},
     "output_type": "execute_result"
    }
   ],
   "source": [
    "player = df[[\"player_hand\", \"player_hand_value\", \"player_won\", \"player_busted\", \"player_blackjack\"]]\n",
    "# get the summed value of the player's hand from the first two cards\n",
    "player[\"player_start_hand_value\"] = player[\"player_hand\"].apply(lambda x: x[0].value + x[1].value if not any(card.value == 1 for card in x[:2]) else x[0].value + 11)\n",
    "\n",
    "player"
   ]
  },
  {
   "cell_type": "code",
   "execution_count": null,
   "metadata": {},
   "outputs": [
    {
     "name": "stderr",
     "output_type": "stream",
     "text": [
      "<ipython-input-513-a5e22b3b1313>:3: SettingWithCopyWarning: \n",
      "A value is trying to be set on a copy of a slice from a DataFrame.\n",
      "Try using .loc[row_indexer,col_indexer] = value instead\n",
      "\n",
      "See the caveats in the documentation: http://pandas.pydata.org/pandas-docs/stable/user_guide/indexing.html#returning-a-view-versus-a-copy\n",
      "  bust_cards[\"player_busted\"] = bust_cards[\"player_busted\"].astype(int)\n"
     ]
    },
    {
     "data": {
      "text/plain": [
       "<matplotlib.axes._subplots.AxesSubplot at 0x1c862dc5d60>"
      ]
     },
     "execution_count": 513,
     "metadata": {},
     "output_type": "execute_result"
    },
    {
     "data": {
      "image/png": "[encoded data removed]",
      "text/plain": [
       "<Figure size 432x288 with 2 Axes>"
      ]
     },
     "metadata": {
      "needs_background": "light"
     },
     "output_type": "display_data"
    }
   ],
   "source": [
    "bust_cards = player[[\"player_busted\", \"player_start_hand_value\", \"player_won\"]]\n",
    "# convert player_busted from bool to int\n",
    "bust_cards[\"player_busted\"] = bust_cards[\"player_busted\"].astype(int)\n",
    "b = bust_cards.pivot_table(columns=\"player_start_hand_value\", values=\"player_busted\")\n",
    "\n",
    "b*100\n",
    "sns.heatmap(b, cmap='Blues')"
   ]
  },
  {
   "cell_type": "markdown",
   "metadata": {},
   "source": [
    "## Dealer results\n",
    "\n",
    "Analysis on the distribution of dealer hands given an up card."
   ]
  },
  {
   "cell_type": "code",
   "execution_count": null,
   "metadata": {},
   "outputs": [],
   "source": [
    "dealer = df[[\"dealer_up_card_value\", \"dealer_final_hand_value\", \"dealer_blackjack\", \"dealer_busted\", \"player_won\"]]"
   ]
  },
  {
   "cell_type": "markdown",
   "metadata": {},
   "source": [
    "What percentage of times did the dealer bust where the player did not already bust?"
   ]
  },
  {
   "cell_type": "code",
   "execution_count": null,
   "metadata": {},
   "outputs": [
    {
     "data": {
      "text/plain": [
       "-0.5259203606311045"
      ]
     },
     "execution_count": 515,
     "metadata": {},
     "output_type": "execute_result"
    }
   ],
   "source": [
    "perc_dealer_busted = (dealer[\"dealer_busted\"].sum() - df[\"player_busted\"].sum()) * 100 / dealer[\"dealer_busted\"].count()\n",
    "perc_dealer_busted"
   ]
  },
  {
   "cell_type": "code",
   "execution_count": null,
   "metadata": {},
   "outputs": [
    {
     "data": {
      "text/plain": [
       "4.1697971450037565"
      ]
     },
     "execution_count": 516,
     "metadata": {},
     "output_type": "execute_result"
    }
   ],
   "source": [
    "perc_dealer_bj = dealer[\"dealer_blackjack\"].sum() * 100 / dealer[\"dealer_blackjack\"].count()\n",
    "perc_dealer_bj"
   ]
  },
  {
   "cell_type": "markdown",
   "metadata": {},
   "source": [
    "## Dealer bust cards\n",
    "\n",
    "Find the distribution of dealer busts given any up card."
   ]
  },
  {
   "cell_type": "code",
   "execution_count": null,
   "metadata": {},
   "outputs": [
    {
     "name": "stderr",
     "output_type": "stream",
     "text": [
      "<ipython-input-517-877d126f1814>:3: SettingWithCopyWarning: \n",
      "A value is trying to be set on a copy of a slice from a DataFrame.\n",
      "Try using .loc[row_indexer,col_indexer] = value instead\n",
      "\n",
      "See the caveats in the documentation: http://pandas.pydata.org/pandas-docs/stable/user_guide/indexing.html#returning-a-view-versus-a-copy\n",
      "  bust_cards[\"dealer_busted\"] = bust_cards[\"dealer_busted\"].astype(int)\n"
     ]
    },
    {
     "data": {
      "text/html": [
       "<div>\n",
       "<style scoped>\n",
       "    .dataframe tbody tr th:only-of-type {\n",
       "        vertical-align: middle;\n",
       "    }\n",
       "\n",
       "    .dataframe tbody tr th {\n",
       "        vertical-align: top;\n",
       "    }\n",
       "\n",
       "    .dataframe thead th {\n",
       "        text-align: right;\n",
       "    }\n",
       "</style>\n",
       "<table border=\"1\" class=\"dataframe\">\n",
       "  <thead>\n",
       "    <tr style=\"text-align: right;\">\n",
       "      <th>dealer_up_card_value</th>\n",
       "      <th>2</th>\n",
       "      <th>3</th>\n",
       "      <th>4</th>\n",
       "      <th>5</th>\n",
       "      <th>6</th>\n",
       "      <th>7</th>\n",
       "      <th>8</th>\n",
       "      <th>9</th>\n",
       "      <th>10</th>\n",
       "      <th>1</th>\n",
       "    </tr>\n",
       "  </thead>\n",
       "  <tbody>\n",
       "    <tr>\n",
       "      <th>dealer_busted</th>\n",
       "      <td>35.323383</td>\n",
       "      <td>35.025381</td>\n",
       "      <td>44.642857</td>\n",
       "      <td>41.752577</td>\n",
       "      <td>41.666667</td>\n",
       "      <td>20.895522</td>\n",
       "      <td>25.773196</td>\n",
       "      <td>26.086957</td>\n",
       "      <td>21.922626</td>\n",
       "      <td>10.695187</td>\n",
       "    </tr>\n",
       "  </tbody>\n",
       "</table>\n",
       "</div>"
      ],
      "text/plain": [
       "dealer_up_card_value         2          3          4          5          6   \\\n",
       "dealer_busted         35.323383  35.025381  44.642857  41.752577  41.666667   \n",
       "\n",
       "dealer_up_card_value         7          8          9          10         1   \n",
       "dealer_busted         20.895522  25.773196  26.086957  21.922626  10.695187  "
      ]
     },
     "execution_count": 517,
     "metadata": {},
     "output_type": "execute_result"
    }
   ],
   "source": [
    "bust_cards = df[[\"dealer_busted\", \"dealer_up_card_value\"]]\n",
    "# convert dealer_busted from bool to int\n",
    "bust_cards[\"dealer_busted\"] = bust_cards[\"dealer_busted\"].astype(int)\n",
    "b = bust_cards.pivot_table(columns=\"dealer_up_card_value\", values=\"dealer_busted\")\n",
    "\n",
    "# Reorder so 'A' is first\n",
    "c = b.columns.to_list()\n",
    "new = c[1:] + c[:1]\n",
    "b = b[new]\n",
    "b*100"
   ]
  },
  {
   "cell_type": "code",
   "execution_count": null,
   "metadata": {},
   "outputs": [
    {
     "data": {
      "text/plain": [
       "<matplotlib.axes._subplots.AxesSubplot at 0x1c868c27040>"
      ]
     },
     "execution_count": 518,
     "metadata": {},
     "output_type": "execute_result"
    },
    {
     "data": {
      "image/png": "[encoded data removed]",
      "text/plain": [
       "<Figure size 432x288 with 2 Axes>"
      ]
     },
     "metadata": {
      "needs_background": "light"
     },
     "output_type": "display_data"
    }
   ],
   "source": [
    "sns.heatmap(b, cmap='Blues')"
   ]
  },
  {
   "cell_type": "code",
   "execution_count": null,
   "metadata": {},
   "outputs": [],
   "source": []
  }
 ],
 "metadata": {
  "interpreter": {
   "hash": "5e96daa4d5a569cd3fa58cda2f4afebc935860d9220c33c17f54bed3e266da84"
  },
  "kernelspec": {
   "display_name": "Python 3.8.3 64-bit",
   "language": "python",
   "name": "python3"
  },
  "language_info": {
   "codemirror_mode": {
    "name": "ipython",
    "version": 3
   },
   "file_extension": ".py",
   "mimetype": "text/x-python",
   "name": "python",
   "nbconvert_exporter": "python",
   "pygments_lexer": "ipython3",
   "version": "3.8.3"
  },
  "orig_nbformat": 4
 },
 "nbformat": 4,
 "nbformat_minor": 2
}
